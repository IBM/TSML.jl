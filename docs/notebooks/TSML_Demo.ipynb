{
 "cells": [
  {
   "cell_type": "code",
   "execution_count": 44,
   "metadata": {},
   "outputs": [],
   "source": [
    "using TSML: fit,fit!,transform,transform!\n",
    "using TSML\n",
    "using DataFrames\n",
    "using Dates\n",
    "using CSV\n",
    "using Random"
   ]
  },
  {
   "cell_type": "code",
   "execution_count": 45,
   "metadata": {},
   "outputs": [],
   "source": [
    "fname =\"testdata.csv\"\n",
    "dat = CSV.read(fname, DataFrame)\n",
    "rename!(dat,names(dat)[1]=>:Date,names(dat)[2]=>:Value)\n",
    "dat.Date = DateTime.(dat.Date,\"d/m/y H:M\")\n",
    "orig = deepcopy(dat)\n",
    "filter1 = DateValgator()\n",
    "filter2 = DateValLinearImputer();"
   ]
  },
  {
   "cell_type": "code",
   "execution_count": 46,
   "metadata": {},
   "outputs": [
    {
     "data": {
      "text/plain": [
       "(\u001b[1m5×2 DataFrame\u001b[0m\n",
       "\u001b[1m Row \u001b[0m│\u001b[1m Date                \u001b[0m\u001b[1m Value    \u001b[0m\n",
       "     │\u001b[90m DateTime            \u001b[0m\u001b[90m Float64? \u001b[0m\n",
       "─────┼───────────────────────────────\n",
       "   1 │ 2014-01-01T00:00:00      10.0\n",
       "   2 │ 2014-01-01T01:00:00       9.9\n",
       "   3 │ 2014-01-01T02:00:00      10.0\n",
       "   4 │ 2014-01-01T03:00:00      10.0\n",
       "   5 │ 2014-01-01T04:00:00      10.0, 8761)"
      ]
     },
     "execution_count": 46,
     "metadata": {},
     "output_type": "execute_result"
    }
   ],
   "source": [
    "fit!(filter1,dat,[])\n",
    "res1=transform!(filter1,dat)\n",
    "(first(res1,5),size(res1,1))"
   ]
  },
  {
   "cell_type": "code",
   "execution_count": 47,
   "metadata": {},
   "outputs": [
    {
     "data": {
      "text/plain": [
       "(\u001b[1m5×2 DataFrame\u001b[0m\n",
       "\u001b[1m Row \u001b[0m│\u001b[1m Date                \u001b[0m\u001b[1m Value    \u001b[0m\n",
       "     │\u001b[90m DateTime            \u001b[0m\u001b[90m Float64? \u001b[0m\n",
       "─────┼───────────────────────────────\n",
       "   1 │ 2014-01-01T00:00:00      10.0\n",
       "   2 │ 2014-01-01T01:00:00       9.9\n",
       "   3 │ 2014-01-01T02:00:00      10.0\n",
       "   4 │ 2014-01-01T03:00:00      10.0\n",
       "   5 │ 2014-01-01T04:00:00      10.0, 8761)"
      ]
     },
     "execution_count": 47,
     "metadata": {},
     "output_type": "execute_result"
    }
   ],
   "source": [
    "fit!(filter2,res1,[])\n",
    "res2=transform!(filter2,res1)\n",
    "(first(res2,5),size(res2,1))"
   ]
  },
  {
   "cell_type": "code",
   "execution_count": 48,
   "metadata": {},
   "outputs": [],
   "source": [
    "mypipeline = filter1 |> filter2;"
   ]
  },
  {
   "cell_type": "code",
   "execution_count": 49,
   "metadata": {},
   "outputs": [
    {
     "data": {
      "text/html": [
       "<div><div style = \"float: left;\"><span>5×2 DataFrame</span></div><div style = \"clear: both;\"></div></div><div class = \"data-frame\" style = \"overflow-x: scroll;\"><table class = \"data-frame\" style = \"margin-bottom: 6px;\"><thead><tr class = \"header\"><th class = \"rowNumber\" style = \"font-weight: bold; text-align: right;\">Row</th><th style = \"text-align: left;\">Date</th><th style = \"text-align: left;\">Value</th></tr><tr class = \"subheader headerLastRow\"><th class = \"rowNumber\" style = \"font-weight: bold; text-align: right;\"></th><th title = \"DateTime\" style = \"text-align: left;\">DateTime</th><th title = \"Union{Missing, Float64}\" style = \"text-align: left;\">Float64?</th></tr></thead><tbody><tr><td class = \"rowNumber\" style = \"font-weight: bold; text-align: right;\">1</td><td style = \"text-align: left;\">2014-01-01T00:00:00</td><td style = \"text-align: right;\">10.0</td></tr><tr><td class = \"rowNumber\" style = \"font-weight: bold; text-align: right;\">2</td><td style = \"text-align: left;\">2014-01-01T01:00:00</td><td style = \"text-align: right;\">9.9</td></tr><tr><td class = \"rowNumber\" style = \"font-weight: bold; text-align: right;\">3</td><td style = \"text-align: left;\">2014-01-01T02:00:00</td><td style = \"text-align: right;\">10.0</td></tr><tr><td class = \"rowNumber\" style = \"font-weight: bold; text-align: right;\">4</td><td style = \"text-align: left;\">2014-01-01T03:00:00</td><td style = \"text-align: right;\">10.0</td></tr><tr><td class = \"rowNumber\" style = \"font-weight: bold; text-align: right;\">5</td><td style = \"text-align: left;\">2014-01-01T04:00:00</td><td style = \"text-align: right;\">10.0</td></tr></tbody></table></div>"
      ],
      "text/latex": [
       "\\begin{tabular}{r|cc}\n",
       "\t& Date & Value\\\\\n",
       "\t\\hline\n",
       "\t& DateTime & Float64?\\\\\n",
       "\t\\hline\n",
       "\t1 & 2014-01-01T00:00:00 & 10.0 \\\\\n",
       "\t2 & 2014-01-01T01:00:00 & 9.9 \\\\\n",
       "\t3 & 2014-01-01T02:00:00 & 10.0 \\\\\n",
       "\t4 & 2014-01-01T03:00:00 & 10.0 \\\\\n",
       "\t5 & 2014-01-01T04:00:00 & 10.0 \\\\\n",
       "\\end{tabular}\n"
      ],
      "text/plain": [
       "\u001b[1m5×2 DataFrame\u001b[0m\n",
       "\u001b[1m Row \u001b[0m│\u001b[1m Date                \u001b[0m\u001b[1m Value    \u001b[0m\n",
       "     │\u001b[90m DateTime            \u001b[0m\u001b[90m Float64? \u001b[0m\n",
       "─────┼───────────────────────────────\n",
       "   1 │ 2014-01-01T00:00:00      10.0\n",
       "   2 │ 2014-01-01T01:00:00       9.9\n",
       "   3 │ 2014-01-01T02:00:00      10.0\n",
       "   4 │ 2014-01-01T03:00:00      10.0\n",
       "   5 │ 2014-01-01T04:00:00      10.0"
      ]
     },
     "execution_count": 49,
     "metadata": {},
     "output_type": "execute_result"
    }
   ],
   "source": [
    "fit_transform!(mypipeline,dat) |> x->first(x,5)"
   ]
  },
  {
   "cell_type": "code",
   "execution_count": 50,
   "metadata": {},
   "outputs": [
    {
     "name": "stderr",
     "output_type": "stream",
     "text": [
      "WARNING: replacing module MCSVReaders.\n",
      "WARNING: using MCSVReaders.MCSVDateValReader in module Main conflicts with an existing identifier.\n"
     ]
    }
   ],
   "source": [
    "module MCSVReaders\n",
    "using TSML\n",
    "using Statistics\n",
    "using Random\n",
    "using DataFrames\n",
    "import TSML.AbsTypes.fit!\n",
    "import TSML.AbsTypes.transform!\n",
    "export fit!,transform!\n",
    "export MCSVDateValReader\n",
    "\n",
    "mutable struct MCSVDateValReader <: Transformer\n",
    "   name::String\n",
    "   model::Dict{Symbol,Any}\n",
    "\n",
    "   function MCSVDateValReader(args=Dict())\n",
    "      default_args = Dict(\n",
    "          :name => \"csvrdr\",\n",
    "          :filename => \"\",\n",
    "          :dateformat => \"\"\n",
    "      )\n",
    "      cargs=nested_dict_merge(default_args,args)\n",
    "      cargs[:name] = cargs[:name]*\"_\"*randstring(3)\n",
    "      new(cargs[:name],cargs)\n",
    "\n",
    "   end\n",
    "end\n",
    "\n",
    "function fit!(csvrdr::MCSVDateValReader,x::DataFrame=DataFrame(),y::Vector=[])::Nothing\n",
    "   fname = csvrdr.model[:filename]\n",
    "   fmt = csvrdr.model[:dateformat]\n",
    "   (fname != \"\" && fmt != \"\") || throw(ArgumentError(\"missing filename or date format\"))\n",
    "   return nothing\n",
    "end\n",
    "\n",
    "function transform!(csvrdr::MCSVDateValReader,x::DataFrame=DataFrame())::DataFrame\n",
    "   fname = csvrdr.model[:filename]\n",
    "   fmt = csvrdr.model[:dateformat]\n",
    "   df = CSV.File(fname) |> DataFrame\n",
    "   ncol(df) == 2 || throw(ArgumentError(\"dataframe should have only two columns: Date,Value\"))\n",
    "   rename!(df,names(df)[1]=>:Date,names(df)[2]=>:Value)\n",
    "   if !(eltype(df.Date) <: DateTime )\n",
    "      df.Date = DateTime.(df.Date,fmt)\n",
    "   end\n",
    "   df\n",
    "end\n",
    "end\n",
    "using .MCSVReaders"
   ]
  },
  {
   "cell_type": "code",
   "execution_count": 51,
   "metadata": {},
   "outputs": [
    {
     "data": {
      "text/html": [
       "<div><div style = \"float: left;\"><span>5×2 DataFrame</span></div><div style = \"clear: both;\"></div></div><div class = \"data-frame\" style = \"overflow-x: scroll;\"><table class = \"data-frame\" style = \"margin-bottom: 6px;\"><thead><tr class = \"header\"><th class = \"rowNumber\" style = \"font-weight: bold; text-align: right;\">Row</th><th style = \"text-align: left;\">Date</th><th style = \"text-align: left;\">Value</th></tr><tr class = \"subheader headerLastRow\"><th class = \"rowNumber\" style = \"font-weight: bold; text-align: right;\"></th><th title = \"DateTime\" style = \"text-align: left;\">DateTime</th><th title = \"Float64\" style = \"text-align: left;\">Float64</th></tr></thead><tbody><tr><td class = \"rowNumber\" style = \"font-weight: bold; text-align: right;\">1</td><td style = \"text-align: left;\">2014-01-01T00:06:00</td><td style = \"text-align: right;\">10.0</td></tr><tr><td class = \"rowNumber\" style = \"font-weight: bold; text-align: right;\">2</td><td style = \"text-align: left;\">2014-01-01T00:18:00</td><td style = \"text-align: right;\">10.0</td></tr><tr><td class = \"rowNumber\" style = \"font-weight: bold; text-align: right;\">3</td><td style = \"text-align: left;\">2014-01-01T00:29:00</td><td style = \"text-align: right;\">10.0</td></tr><tr><td class = \"rowNumber\" style = \"font-weight: bold; text-align: right;\">4</td><td style = \"text-align: left;\">2014-01-01T00:40:00</td><td style = \"text-align: right;\">9.9</td></tr><tr><td class = \"rowNumber\" style = \"font-weight: bold; text-align: right;\">5</td><td style = \"text-align: left;\">2014-01-01T00:51:00</td><td style = \"text-align: right;\">9.9</td></tr></tbody></table></div>"
      ],
      "text/latex": [
       "\\begin{tabular}{r|cc}\n",
       "\t& Date & Value\\\\\n",
       "\t\\hline\n",
       "\t& DateTime & Float64\\\\\n",
       "\t\\hline\n",
       "\t1 & 2014-01-01T00:06:00 & 10.0 \\\\\n",
       "\t2 & 2014-01-01T00:18:00 & 10.0 \\\\\n",
       "\t3 & 2014-01-01T00:29:00 & 10.0 \\\\\n",
       "\t4 & 2014-01-01T00:40:00 & 9.9 \\\\\n",
       "\t5 & 2014-01-01T00:51:00 & 9.9 \\\\\n",
       "\\end{tabular}\n"
      ],
      "text/plain": [
       "\u001b[1m5×2 DataFrame\u001b[0m\n",
       "\u001b[1m Row \u001b[0m│\u001b[1m Date                \u001b[0m\u001b[1m Value   \u001b[0m\n",
       "     │\u001b[90m DateTime            \u001b[0m\u001b[90m Float64 \u001b[0m\n",
       "─────┼──────────────────────────────\n",
       "   1 │ 2014-01-01T00:06:00     10.0\n",
       "   2 │ 2014-01-01T00:18:00     10.0\n",
       "   3 │ 2014-01-01T00:29:00     10.0\n",
       "   4 │ 2014-01-01T00:40:00      9.9\n",
       "   5 │ 2014-01-01T00:51:00      9.9"
      ]
     },
     "execution_count": 51,
     "metadata": {},
     "output_type": "execute_result"
    }
   ],
   "source": [
    "csvreader = MCSVDateValReader(Dict(:filename=>\"testdata.csv\",:dateformat=>\"d/m/y H:M\"))\n",
    "fit!(csvreader)\n",
    "res=transform!(csvreader)\n",
    "first(res,5)"
   ]
  },
  {
   "cell_type": "code",
   "execution_count": 52,
   "metadata": {},
   "outputs": [
    {
     "data": {
      "text/html": [
       "<div><div style = \"float: left;\"><span>5×2 DataFrame</span></div><div style = \"clear: both;\"></div></div><div class = \"data-frame\" style = \"overflow-x: scroll;\"><table class = \"data-frame\" style = \"margin-bottom: 6px;\"><thead><tr class = \"header\"><th class = \"rowNumber\" style = \"font-weight: bold; text-align: right;\">Row</th><th style = \"text-align: left;\">Date</th><th style = \"text-align: left;\">Value</th></tr><tr class = \"subheader headerLastRow\"><th class = \"rowNumber\" style = \"font-weight: bold; text-align: right;\"></th><th title = \"DateTime\" style = \"text-align: left;\">DateTime</th><th title = \"Union{Missing, Float64}\" style = \"text-align: left;\">Float64?</th></tr></thead><tbody><tr><td class = \"rowNumber\" style = \"font-weight: bold; text-align: right;\">1</td><td style = \"text-align: left;\">2014-01-01T00:00:00</td><td style = \"text-align: right;\">10.0</td></tr><tr><td class = \"rowNumber\" style = \"font-weight: bold; text-align: right;\">2</td><td style = \"text-align: left;\">2014-01-01T01:00:00</td><td style = \"text-align: right;\">9.9</td></tr><tr><td class = \"rowNumber\" style = \"font-weight: bold; text-align: right;\">3</td><td style = \"text-align: left;\">2014-01-01T02:00:00</td><td style = \"text-align: right;\">10.0</td></tr><tr><td class = \"rowNumber\" style = \"font-weight: bold; text-align: right;\">4</td><td style = \"text-align: left;\">2014-01-01T03:00:00</td><td style = \"text-align: right;\">10.0</td></tr><tr><td class = \"rowNumber\" style = \"font-weight: bold; text-align: right;\">5</td><td style = \"text-align: left;\">2014-01-01T04:00:00</td><td style = \"text-align: right;\">10.0</td></tr></tbody></table></div>"
      ],
      "text/latex": [
       "\\begin{tabular}{r|cc}\n",
       "\t& Date & Value\\\\\n",
       "\t\\hline\n",
       "\t& DateTime & Float64?\\\\\n",
       "\t\\hline\n",
       "\t1 & 2014-01-01T00:00:00 & 10.0 \\\\\n",
       "\t2 & 2014-01-01T01:00:00 & 9.9 \\\\\n",
       "\t3 & 2014-01-01T02:00:00 & 10.0 \\\\\n",
       "\t4 & 2014-01-01T03:00:00 & 10.0 \\\\\n",
       "\t5 & 2014-01-01T04:00:00 & 10.0 \\\\\n",
       "\\end{tabular}\n"
      ],
      "text/plain": [
       "\u001b[1m5×2 DataFrame\u001b[0m\n",
       "\u001b[1m Row \u001b[0m│\u001b[1m Date                \u001b[0m\u001b[1m Value    \u001b[0m\n",
       "     │\u001b[90m DateTime            \u001b[0m\u001b[90m Float64? \u001b[0m\n",
       "─────┼───────────────────────────────\n",
       "   1 │ 2014-01-01T00:00:00      10.0\n",
       "   2 │ 2014-01-01T01:00:00       9.9\n",
       "   3 │ 2014-01-01T02:00:00      10.0\n",
       "   4 │ 2014-01-01T03:00:00      10.0\n",
       "   5 │ 2014-01-01T04:00:00      10.0"
      ]
     },
     "execution_count": 52,
     "metadata": {},
     "output_type": "execute_result"
    }
   ],
   "source": [
    "mypipeline = csvreader |> filter1 |> filter2\n",
    "    \n",
    "fit_transform!(mypipeline) |> x->first(x,5)"
   ]
  },
  {
   "cell_type": "code",
   "execution_count": 53,
   "metadata": {},
   "outputs": [],
   "source": [
    "mydate=DateTime(2014,1,1):Dates.Minute(15):DateTime(2014,1,3) # 15 minutes interval\n",
    "values = Array{Union{Float64,Missing}}(sin.(1:0.1:length(mydate)) .+ cos.(1:0.1:length(mydate)))[1:length(mydate)];\n",
    "x = DataFrame(Date=mydate,Value=values); xx = deepcopy(x);first(x,10)\n",
    "nmissing=floor(nrow(x) * 0.80) |> Integer\n",
    "ndxmissing=Random.shuffle(1:nrow(x))[1:nmissing]\n",
    "x.Value[ndxmissing] .= missing; first(x,15)\n",
    "dvtr = TSML.DateValgator()\n",
    "TSML.fit!(dvtr,x,[]);TSML.fit!(dvtr,xx,[])\n",
    "inputx = TSML.transform!(dvtr,x); inputxx = TSML.transform!(dvtr,xx);\n",
    "dvnnr = TSML.DateValLinearImputer(Dict(:dateinterval=>Dates.Hour(1),:nnsize=>1))\n",
    "TSML.fit!(dvnnr,inputx,[])\n",
    "pred_y=TSML.transform!(dvnnr,inputx);pred_yy=TSML.transform!(dvnnr,inputxx);"
   ]
  },
  {
   "cell_type": "code",
   "execution_count": 54,
   "metadata": {},
   "outputs": [
    {
     "data": {
      "text/plain": [
       "0.007418461947682808"
      ]
     },
     "execution_count": 54,
     "metadata": {},
     "output_type": "execute_result"
    }
   ],
   "source": [
    "sqrt(sum(pred_y.Value-pred_yy.Value).^2)"
   ]
  },
  {
   "cell_type": "code",
   "execution_count": 55,
   "metadata": {},
   "outputs": [],
   "source": [
    "rename!(pred_y,:Value=>:MissingVals);"
   ]
  },
  {
   "cell_type": "code",
   "execution_count": 56,
   "metadata": {},
   "outputs": [
    {
     "data": {
      "text/html": [
       "<div><div style = \"float: left;\"><span>5×4 DataFrame</span></div><div style = \"clear: both;\"></div></div><div class = \"data-frame\" style = \"overflow-x: scroll;\"><table class = \"data-frame\" style = \"margin-bottom: 6px;\"><thead><tr class = \"header\"><th class = \"rowNumber\" style = \"font-weight: bold; text-align: right;\">Row</th><th style = \"text-align: left;\">Date</th><th style = \"text-align: left;\">MissingVals</th><th style = \"text-align: left;\">Value</th><th style = \"text-align: left;\">error</th></tr><tr class = \"subheader headerLastRow\"><th class = \"rowNumber\" style = \"font-weight: bold; text-align: right;\"></th><th title = \"DateTime\" style = \"text-align: left;\">DateTime</th><th title = \"Union{Missing, Float64}\" style = \"text-align: left;\">Float64?</th><th title = \"Union{Missing, Float64}\" style = \"text-align: left;\">Float64?</th><th title = \"Float64\" style = \"text-align: left;\">Float64</th></tr></thead><tbody><tr><td class = \"rowNumber\" style = \"font-weight: bold; text-align: right;\">1</td><td style = \"text-align: left;\">2014-01-01T00:00:00</td><td style = \"text-align: right;\">0.86282</td><td style = \"text-align: right;\">1.36329</td><td style = \"text-align: right;\">0.250468</td></tr><tr><td class = \"rowNumber\" style = \"font-weight: bold; text-align: right;\">2</td><td style = \"text-align: left;\">2014-01-01T01:00:00</td><td style = \"text-align: right;\">0.86282</td><td style = \"text-align: right;\">1.19324</td><td style = \"text-align: right;\">0.109175</td></tr><tr><td class = \"rowNumber\" style = \"font-weight: bold; text-align: right;\">3</td><td style = \"text-align: left;\">2014-01-01T02:00:00</td><td style = \"text-align: right;\">0.86282</td><td style = \"text-align: right;\">0.804733</td><td style = \"text-align: right;\">0.00337414</td></tr><tr><td class = \"rowNumber\" style = \"font-weight: bold; text-align: right;\">4</td><td style = \"text-align: left;\">2014-01-01T03:00:00</td><td style = \"text-align: right;\">0.149712</td><td style = \"text-align: right;\">0.289179</td><td style = \"text-align: right;\">0.0194511</td></tr><tr><td class = \"rowNumber\" style = \"font-weight: bold; text-align: right;\">5</td><td style = \"text-align: left;\">2014-01-01T04:00:00</td><td style = \"text-align: right;\">-0.403921</td><td style = \"text-align: right;\">-0.272029</td><td style = \"text-align: right;\">0.0173954</td></tr></tbody></table></div>"
      ],
      "text/latex": [
       "\\begin{tabular}{r|cccc}\n",
       "\t& Date & MissingVals & Value & error\\\\\n",
       "\t\\hline\n",
       "\t& DateTime & Float64? & Float64? & Float64\\\\\n",
       "\t\\hline\n",
       "\t1 & 2014-01-01T00:00:00 & 0.86282 & 1.36329 & 0.250468 \\\\\n",
       "\t2 & 2014-01-01T01:00:00 & 0.86282 & 1.19324 & 0.109175 \\\\\n",
       "\t3 & 2014-01-01T02:00:00 & 0.86282 & 0.804733 & 0.00337414 \\\\\n",
       "\t4 & 2014-01-01T03:00:00 & 0.149712 & 0.289179 & 0.0194511 \\\\\n",
       "\t5 & 2014-01-01T04:00:00 & -0.403921 & -0.272029 & 0.0173954 \\\\\n",
       "\\end{tabular}\n"
      ],
      "text/plain": [
       "\u001b[1m5×4 DataFrame\u001b[0m\n",
       "\u001b[1m Row \u001b[0m│\u001b[1m Date                \u001b[0m\u001b[1m MissingVals \u001b[0m\u001b[1m Value     \u001b[0m\u001b[1m error      \u001b[0m\n",
       "     │\u001b[90m DateTime            \u001b[0m\u001b[90m Float64?    \u001b[0m\u001b[90m Float64?  \u001b[0m\u001b[90m Float64    \u001b[0m\n",
       "─────┼─────────────────────────────────────────────────────────\n",
       "   1 │ 2014-01-01T00:00:00     0.86282    1.36329   0.250468\n",
       "   2 │ 2014-01-01T01:00:00     0.86282    1.19324   0.109175\n",
       "   3 │ 2014-01-01T02:00:00     0.86282    0.804733  0.00337414\n",
       "   4 │ 2014-01-01T03:00:00     0.149712   0.289179  0.0194511\n",
       "   5 │ 2014-01-01T04:00:00    -0.403921  -0.272029  0.0173954"
      ]
     },
     "execution_count": 56,
     "metadata": {},
     "output_type": "execute_result"
    }
   ],
   "source": [
    "jx = leftjoin(pred_y,pred_yy,on=:Date)\n",
    "jx.error = (jx.MissingVals .- jx.Value).^2\n",
    "first(jx,5)"
   ]
  }
 ],
 "metadata": {
  "@webio": {
   "lastCommId": null,
   "lastKernelId": null
  },
  "kernelspec": {
   "display_name": "Julia 1.8.5",
   "language": "julia",
   "name": "julia-1.8"
  },
  "language_info": {
   "file_extension": ".jl",
   "mimetype": "application/julia",
   "name": "julia",
   "version": "1.8.5"
  }
 },
 "nbformat": 4,
 "nbformat_minor": 2
}
